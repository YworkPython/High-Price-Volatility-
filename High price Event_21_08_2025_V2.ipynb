{
 "cells": [
  {
   "cell_type": "code",
   "execution_count": 177,
   "id": "5cf347e8-8efe-4ae4-9c34-20c833906beb",
   "metadata": {},
   "outputs": [],
   "source": [
    "import pandas as pd\n",
    "import matplotlib.pyplot as plt\n",
    "from os import path\n",
    "import matplotlib.dates as mdates\n",
    "from datetime import datetime"
   ]
  },
  {
   "cell_type": "code",
   "execution_count": 178,
   "id": "c8e26634-5065-4a5c-ab01-bcbbe8d0ab49",
   "metadata": {},
   "outputs": [],
   "source": [
    "def ToD(df,m):\n",
    "    df['{}'.format(m)]=pd.to_datetime(df['{}'.format(m)],format='%d/%m/%Y %H:%M:%S') \n",
    "    df['Month']=df['{}'.format(m)].dt.month # monthly information \n",
    "    df['CY']=df['{}'.format(m)].dt.year    # calander year information \n",
    "    df['Quarter']=df['{}'.format(m)].dt.quarter# quartely information\n",
    "    df['FY']=df['{}'.format(m)].map(lambda d: d.year + 1 if d.month > 6 else d.year) # Financial year infromation\n",
    "    df['Date']=df['{}'.format(m)].dt.date\n",
    "    df['Time']=df['{}'.format(m)].dt.time"
   ]
  },
  {
   "cell_type": "code",
   "execution_count": 179,
   "id": "fd6b85d6-4ff6-40ff-b4e4-c912ddfd016e",
   "metadata": {},
   "outputs": [],
   "source": [
    "def calculate_true_range(df,n):\n",
    "    df['high_low'] = df['High'] - df['Low']\n",
    "    df['high_prev_close'] = abs(df['High'] - df['Close'].shift(1))\n",
    "    df['low_prev_close'] = abs(df['Low'] - df['Close'].shift(1))\n",
    "    df['True_Range'] = df[['high_low', 'high_prev_close', 'low_prev_close']].max(axis=1)\n",
    "    df['ATR']= df['True_Range'].ewm(alpha=1/n, adjust=False).mean()\n",
    "    return df"
   ]
  },
  {
   "cell_type": "code",
   "execution_count": 180,
   "id": "1e2f8cdf-e1c2-4bfd-9075-26662dc974d0",
   "metadata": {},
   "outputs": [],
   "source": [
    "df=pd.read_csv(r'C:\\Users\\ygu\\Documents\\ES\\High Price\\Input Data\\All_Region_5_Min_2019_2025_18_08.csv')"
   ]
  },
  {
   "cell_type": "code",
   "execution_count": 181,
   "id": "cbfe8000-15f7-440a-b2d1-b4b8cb22b91f",
   "metadata": {},
   "outputs": [
    {
     "data": {
      "text/plain": [
       "Index(['DateTime', 'QLD1 DISPATCH_PRICE', 'NSW1 DISPATCH_PRICE',\n",
       "       'VIC1 DISPATCH_PRICE', 'SA1 DISPATCH_PRICE', 'TAS1 DISPATCH_PRICE',\n",
       "       'SNOWY1 DISPATCH_PRICE'],\n",
       "      dtype='object')"
      ]
     },
     "execution_count": 181,
     "metadata": {},
     "output_type": "execute_result"
    }
   ],
   "source": [
    "df.columns"
   ]
  },
  {
   "cell_type": "code",
   "execution_count": null,
   "id": "ebe3de9b-e051-4c2d-b36a-452c17642ec4",
   "metadata": {},
   "outputs": [],
   "source": []
  },
  {
   "cell_type": "code",
   "execution_count": 182,
   "id": "cdd07aa5-32d5-4e37-abf3-3eb4d5c1333a",
   "metadata": {},
   "outputs": [],
   "source": [
    "def ATR_caculation(df0, state,n,m, t1, t2):\n",
    "    df0=df0[['DateTime','{} DISPATCH_PRICE'.format(state)]].copy()\n",
    "    ToD(df0,'DateTime')\n",
    "    df0=df0[(df0['Time'].astype(str) >= ('{}'.format(t1)))  & (df0['Time'].astype(str) <= ('{}'.format(t2)))]\n",
    "   \n",
    "    # Step1 Get the max and min from the dispatch in the certain period\n",
    "    \n",
    "    df=df0.groupby('Date').agg({'{} DISPATCH_PRICE'.format(state):['max','min']}).reset_index() \n",
    "    df.columns = [' '.join(col).strip() for col in df.columns.values]\n",
    "    df.rename(columns={'{} DISPATCH_PRICE max'.format(state):'High','{} DISPATCH_PRICE min'.format(state):'Low'}, inplace=True)\n",
    "   \n",
    "    # Step2 Find the closing price of the time frame period\n",
    "    \n",
    "    df1=df0.groupby('Date').tail(1)[['Date','{} DISPATCH_PRICE'.format(state)]]\n",
    "    df1.rename(columns={'{} DISPATCH_PRICE'.format(state):'Close'}, inplace=True)\n",
    "    df=df.merge(df1, on='Date', how='inner')\n",
    "\n",
    "    # Step 3 caculating the ATR\n",
    "    df_new=calculate_true_range(df, n)\n",
    "\n",
    "    # sTEP 4 Ploting the ATR \n",
    "    \n",
    "    plt.figure(figsize=(12, 6))\n",
    "    ax = plt.gca()\n",
    "    #plt.plot(m_p['Date'],m_p['{}'.format('Close')] )\n",
    "    ax.xaxis.set_major_formatter(mdates.DateFormatter('%Y-%m-%d'))  # axis formating \n",
    "    plt.gca().xaxis.set_major_locator(mdates.DayLocator(interval=m))\n",
    "    #plt.plot(m_p['Date'],m_p['True_Range'], label='True Range {}'.format('Morning Peak'), color='orange')\n",
    "    plt.plot(df_new['Date'],df_new['ATR'], label='ATR', color='red', linestyle='--')\n",
    "    #plt.plot(m_p['Date'],df['Lower Bound'], label='Lower Bound', color='green', linestyle='--')\n",
    "    plt.title('ATR {}_{}-{}'.format(state, t1,t2))\n",
    "    plt.xlabel('Date')\n",
    "    plt.ylabel('Price')\n",
    "    plt.grid(True)\n",
    "    p=plt.savefig('{}'.format(state), format='png' )\n",
    "    plt.close()\n",
    "    #plt.show() \n",
    "\n",
    "    return df_new, p\n",
    "    "
   ]
  },
  {
   "cell_type": "code",
   "execution_count": 192,
   "id": "8203f243-5134-40af-952d-746110b42b01",
   "metadata": {},
   "outputs": [
    {
     "name": "stdout",
     "output_type": "stream",
     "text": [
      "QLD1\n",
      "NSW1\n",
      "VIC1\n",
      "SA1\n",
      "TAS1\n"
     ]
    }
   ],
   "source": [
    "import os\n",
    "writer = pd.ExcelWriter(path.join(r'C:\\Users\\ygu\\Documents\\ES\\High Price\\Input Data', 'High Price Analysis_ATR_90_Evening.xlsx'),engine='xlsxwriter')\n",
    "os.chdir(r'C:\\Users\\ygu\\Documents\\ES\\High Price\\Input Data')\n",
    "for state in ['QLD1','NSW1','VIC1','SA1','TAS1']:\n",
    "    print(state)\n",
    "    df_f,p=ATR_caculation(df,state,90, 365,'17:00:00','20:30:00')\n",
    "    workbook=writer.book\n",
    "    worksheet=workbook.add_worksheet(state)\n",
    "    writer.sheets[state] = worksheet\n",
    "    df_f.to_excel(writer,sheet_name=state,startrow=0 , startcol=0,index=False,float_format=\"%.1f\")\n",
    "    worksheet.insert_image('H01' ,'{}'.format(state))\n",
    "    "
   ]
  },
  {
   "cell_type": "code",
   "execution_count": 193,
   "id": "96cebecc-bbeb-48c1-8003-6a5208e35894",
   "metadata": {},
   "outputs": [],
   "source": [
    "writer.close()"
   ]
  },
  {
   "cell_type": "code",
   "execution_count": 115,
   "id": "aba3b9a0-777c-474a-ab7a-2be62222d868",
   "metadata": {},
   "outputs": [],
   "source": [
    "df1=df[['DateTime','QLD1 DISPATCH_PRICE']].copy()"
   ]
  },
  {
   "cell_type": "code",
   "execution_count": 116,
   "id": "9d0e51a0-5c55-4f96-b30e-f3f3366a9aa0",
   "metadata": {},
   "outputs": [],
   "source": [
    "ToD(df1,'DateTime')"
   ]
  },
  {
   "cell_type": "code",
   "execution_count": 117,
   "id": "8593fed7-5828-4996-8ec9-f4551378d829",
   "metadata": {
    "scrolled": true
   },
   "outputs": [],
   "source": [
    "df1_m_p=df1[(df1['Time'].astype(str) >= ('07:00:00'))  & (df1['Time'].astype(str) <= ('09:30:00')) ]"
   ]
  },
  {
   "cell_type": "code",
   "execution_count": 118,
   "id": "423b6238-2f56-44ef-ab7b-9ec1d3d10e11",
   "metadata": {},
   "outputs": [],
   "source": [
    "df1_af_offp=df1[(df1['Time'].astype(str) >= ('12:00:00'))  & (df1['Time'].astype(str) <= ('15:30:00'))]"
   ]
  },
  {
   "cell_type": "code",
   "execution_count": 119,
   "id": "39a05207-7251-4f41-b9b3-0044d9e4defb",
   "metadata": {},
   "outputs": [],
   "source": [
    "df1_ev_p=df1[(df1['Time'].astype(str) >= ('17:00:00'))  & (df1['Time'].astype(str) <= ('21:00:00'))]"
   ]
  },
  {
   "cell_type": "code",
   "execution_count": 120,
   "id": "158b3ea6-af0f-43d3-855e-50eb3636fe6e",
   "metadata": {},
   "outputs": [],
   "source": [
    "m_p=df1_m_p.groupby('Date').agg({'QLD1 DISPATCH_PRICE':['max','min']}).reset_index()"
   ]
  },
  {
   "cell_type": "code",
   "execution_count": 121,
   "id": "703627b7-c45b-490e-95d5-812bc00a8045",
   "metadata": {},
   "outputs": [],
   "source": [
    "m_p.columns = [' '.join(col).strip() for col in m_p.columns.values]"
   ]
  },
  {
   "cell_type": "code",
   "execution_count": 122,
   "id": "7aadf6f8-802d-4379-bb15-c465268c2f04",
   "metadata": {
    "scrolled": true
   },
   "outputs": [],
   "source": [
    "m_p.rename(columns={'QLD1 DISPATCH_PRICE max':'High','QLD1 DISPATCH_PRICE min':'Low'}, inplace=True)"
   ]
  },
  {
   "cell_type": "code",
   "execution_count": 124,
   "id": "6f9a44c6-2d06-427c-86f5-26a2dc3545a9",
   "metadata": {},
   "outputs": [],
   "source": [
    "m_p1=df1_m_p.groupby('Date').tail(1)[['Date','QLD1 DISPATCH_PRICE']]"
   ]
  },
  {
   "cell_type": "code",
   "execution_count": 125,
   "id": "2351a830-7d8c-4488-9818-2ce924c39849",
   "metadata": {},
   "outputs": [],
   "source": [
    "m_p1.rename(columns={'QLD1 DISPATCH_PRICE':'Close'}, inplace=True)"
   ]
  },
  {
   "cell_type": "code",
   "execution_count": 126,
   "id": "bdad0896-adc7-4020-b197-03add79862ac",
   "metadata": {},
   "outputs": [
    {
     "data": {
      "text/html": [
       "<div>\n",
       "<style scoped>\n",
       "    .dataframe tbody tr th:only-of-type {\n",
       "        vertical-align: middle;\n",
       "    }\n",
       "\n",
       "    .dataframe tbody tr th {\n",
       "        vertical-align: top;\n",
       "    }\n",
       "\n",
       "    .dataframe thead th {\n",
       "        text-align: right;\n",
       "    }\n",
       "</style>\n",
       "<table border=\"1\" class=\"dataframe\">\n",
       "  <thead>\n",
       "    <tr style=\"text-align: right;\">\n",
       "      <th></th>\n",
       "      <th>Date</th>\n",
       "      <th>Close</th>\n",
       "    </tr>\n",
       "  </thead>\n",
       "  <tbody>\n",
       "    <tr>\n",
       "      <th>113</th>\n",
       "      <td>2019-01-01</td>\n",
       "      <td>53.73</td>\n",
       "    </tr>\n",
       "    <tr>\n",
       "      <th>401</th>\n",
       "      <td>2019-01-02</td>\n",
       "      <td>79.36</td>\n",
       "    </tr>\n",
       "    <tr>\n",
       "      <th>689</th>\n",
       "      <td>2019-01-03</td>\n",
       "      <td>80.12</td>\n",
       "    </tr>\n",
       "    <tr>\n",
       "      <th>977</th>\n",
       "      <td>2019-01-04</td>\n",
       "      <td>101.73</td>\n",
       "    </tr>\n",
       "    <tr>\n",
       "      <th>1265</th>\n",
       "      <td>2019-01-05</td>\n",
       "      <td>81.99</td>\n",
       "    </tr>\n",
       "    <tr>\n",
       "      <th>...</th>\n",
       "      <td>...</td>\n",
       "      <td>...</td>\n",
       "    </tr>\n",
       "    <tr>\n",
       "      <th>695921</th>\n",
       "      <td>2025-08-13</td>\n",
       "      <td>-12.65</td>\n",
       "    </tr>\n",
       "    <tr>\n",
       "      <th>696209</th>\n",
       "      <td>2025-08-14</td>\n",
       "      <td>-22.73</td>\n",
       "    </tr>\n",
       "    <tr>\n",
       "      <th>696497</th>\n",
       "      <td>2025-08-15</td>\n",
       "      <td>-22.73</td>\n",
       "    </tr>\n",
       "    <tr>\n",
       "      <th>696785</th>\n",
       "      <td>2025-08-16</td>\n",
       "      <td>-15.01</td>\n",
       "    </tr>\n",
       "    <tr>\n",
       "      <th>697073</th>\n",
       "      <td>2025-08-17</td>\n",
       "      <td>-33.89</td>\n",
       "    </tr>\n",
       "  </tbody>\n",
       "</table>\n",
       "<p>2421 rows × 2 columns</p>\n",
       "</div>"
      ],
      "text/plain": [
       "              Date   Close\n",
       "113     2019-01-01   53.73\n",
       "401     2019-01-02   79.36\n",
       "689     2019-01-03   80.12\n",
       "977     2019-01-04  101.73\n",
       "1265    2019-01-05   81.99\n",
       "...            ...     ...\n",
       "695921  2025-08-13  -12.65\n",
       "696209  2025-08-14  -22.73\n",
       "696497  2025-08-15  -22.73\n",
       "696785  2025-08-16  -15.01\n",
       "697073  2025-08-17  -33.89\n",
       "\n",
       "[2421 rows x 2 columns]"
      ]
     },
     "execution_count": 126,
     "metadata": {},
     "output_type": "execute_result"
    }
   ],
   "source": [
    "m_p1"
   ]
  },
  {
   "cell_type": "code",
   "execution_count": 127,
   "id": "7c4f3a0e-189e-4eac-ba67-e54fbbc19648",
   "metadata": {},
   "outputs": [],
   "source": [
    "m_p=m_p1.merge(m_p, on='Date', how='inner')"
   ]
  },
  {
   "cell_type": "code",
   "execution_count": 128,
   "id": "25953adc-feca-45e5-aba4-ae17736eaa70",
   "metadata": {},
   "outputs": [],
   "source": []
  },
  {
   "cell_type": "code",
   "execution_count": 131,
   "id": "b0a1f6af-b34a-4970-88f6-5dfd86a3f6f7",
   "metadata": {
    "scrolled": true
   },
   "outputs": [
    {
     "data": {
      "text/html": [
       "<div>\n",
       "<style scoped>\n",
       "    .dataframe tbody tr th:only-of-type {\n",
       "        vertical-align: middle;\n",
       "    }\n",
       "\n",
       "    .dataframe tbody tr th {\n",
       "        vertical-align: top;\n",
       "    }\n",
       "\n",
       "    .dataframe thead th {\n",
       "        text-align: right;\n",
       "    }\n",
       "</style>\n",
       "<table border=\"1\" class=\"dataframe\">\n",
       "  <thead>\n",
       "    <tr style=\"text-align: right;\">\n",
       "      <th></th>\n",
       "      <th>Date</th>\n",
       "      <th>Close</th>\n",
       "      <th>High</th>\n",
       "      <th>Low</th>\n",
       "      <th>high_low</th>\n",
       "      <th>high_prev_close</th>\n",
       "      <th>low_prev_close</th>\n",
       "      <th>True_Range</th>\n",
       "      <th>ATR</th>\n",
       "    </tr>\n",
       "  </thead>\n",
       "  <tbody>\n",
       "    <tr>\n",
       "      <th>0</th>\n",
       "      <td>2019-01-01</td>\n",
       "      <td>53.73</td>\n",
       "      <td>53.73</td>\n",
       "      <td>27.11</td>\n",
       "      <td>26.62</td>\n",
       "      <td>NaN</td>\n",
       "      <td>NaN</td>\n",
       "      <td>26.62</td>\n",
       "      <td>26.620000</td>\n",
       "    </tr>\n",
       "    <tr>\n",
       "      <th>1</th>\n",
       "      <td>2019-01-02</td>\n",
       "      <td>79.36</td>\n",
       "      <td>91.80</td>\n",
       "      <td>76.56</td>\n",
       "      <td>15.24</td>\n",
       "      <td>38.07</td>\n",
       "      <td>22.83</td>\n",
       "      <td>38.07</td>\n",
       "      <td>26.747222</td>\n",
       "    </tr>\n",
       "    <tr>\n",
       "      <th>2</th>\n",
       "      <td>2019-01-03</td>\n",
       "      <td>80.12</td>\n",
       "      <td>101.73</td>\n",
       "      <td>65.62</td>\n",
       "      <td>36.11</td>\n",
       "      <td>22.37</td>\n",
       "      <td>13.74</td>\n",
       "      <td>36.11</td>\n",
       "      <td>26.851253</td>\n",
       "    </tr>\n",
       "    <tr>\n",
       "      <th>3</th>\n",
       "      <td>2019-01-04</td>\n",
       "      <td>101.73</td>\n",
       "      <td>101.73</td>\n",
       "      <td>71.22</td>\n",
       "      <td>30.51</td>\n",
       "      <td>21.61</td>\n",
       "      <td>8.90</td>\n",
       "      <td>30.51</td>\n",
       "      <td>26.891906</td>\n",
       "    </tr>\n",
       "    <tr>\n",
       "      <th>4</th>\n",
       "      <td>2019-01-05</td>\n",
       "      <td>81.99</td>\n",
       "      <td>84.50</td>\n",
       "      <td>60.73</td>\n",
       "      <td>23.77</td>\n",
       "      <td>17.23</td>\n",
       "      <td>41.00</td>\n",
       "      <td>41.00</td>\n",
       "      <td>27.048662</td>\n",
       "    </tr>\n",
       "    <tr>\n",
       "      <th>...</th>\n",
       "      <td>...</td>\n",
       "      <td>...</td>\n",
       "      <td>...</td>\n",
       "      <td>...</td>\n",
       "      <td>...</td>\n",
       "      <td>...</td>\n",
       "      <td>...</td>\n",
       "      <td>...</td>\n",
       "      <td>...</td>\n",
       "    </tr>\n",
       "    <tr>\n",
       "      <th>2416</th>\n",
       "      <td>2025-08-13</td>\n",
       "      <td>-12.65</td>\n",
       "      <td>259.15</td>\n",
       "      <td>-13.00</td>\n",
       "      <td>272.15</td>\n",
       "      <td>271.80</td>\n",
       "      <td>0.35</td>\n",
       "      <td>272.15</td>\n",
       "      <td>176.009138</td>\n",
       "    </tr>\n",
       "    <tr>\n",
       "      <th>2417</th>\n",
       "      <td>2025-08-14</td>\n",
       "      <td>-22.73</td>\n",
       "      <td>175.59</td>\n",
       "      <td>-22.73</td>\n",
       "      <td>198.32</td>\n",
       "      <td>188.24</td>\n",
       "      <td>10.08</td>\n",
       "      <td>198.32</td>\n",
       "      <td>176.257036</td>\n",
       "    </tr>\n",
       "    <tr>\n",
       "      <th>2418</th>\n",
       "      <td>2025-08-15</td>\n",
       "      <td>-22.73</td>\n",
       "      <td>225.25</td>\n",
       "      <td>-22.73</td>\n",
       "      <td>247.98</td>\n",
       "      <td>247.98</td>\n",
       "      <td>0.00</td>\n",
       "      <td>247.98</td>\n",
       "      <td>177.053958</td>\n",
       "    </tr>\n",
       "    <tr>\n",
       "      <th>2419</th>\n",
       "      <td>2025-08-16</td>\n",
       "      <td>-15.01</td>\n",
       "      <td>108.75</td>\n",
       "      <td>-16.88</td>\n",
       "      <td>125.63</td>\n",
       "      <td>131.48</td>\n",
       "      <td>5.85</td>\n",
       "      <td>131.48</td>\n",
       "      <td>176.547581</td>\n",
       "    </tr>\n",
       "    <tr>\n",
       "      <th>2420</th>\n",
       "      <td>2025-08-17</td>\n",
       "      <td>-33.89</td>\n",
       "      <td>77.92</td>\n",
       "      <td>-33.89</td>\n",
       "      <td>111.81</td>\n",
       "      <td>92.93</td>\n",
       "      <td>18.88</td>\n",
       "      <td>111.81</td>\n",
       "      <td>175.828274</td>\n",
       "    </tr>\n",
       "  </tbody>\n",
       "</table>\n",
       "<p>2421 rows × 9 columns</p>\n",
       "</div>"
      ],
      "text/plain": [
       "            Date   Close    High    Low  high_low  high_prev_close  \\\n",
       "0     2019-01-01   53.73   53.73  27.11     26.62              NaN   \n",
       "1     2019-01-02   79.36   91.80  76.56     15.24            38.07   \n",
       "2     2019-01-03   80.12  101.73  65.62     36.11            22.37   \n",
       "3     2019-01-04  101.73  101.73  71.22     30.51            21.61   \n",
       "4     2019-01-05   81.99   84.50  60.73     23.77            17.23   \n",
       "...          ...     ...     ...    ...       ...              ...   \n",
       "2416  2025-08-13  -12.65  259.15 -13.00    272.15           271.80   \n",
       "2417  2025-08-14  -22.73  175.59 -22.73    198.32           188.24   \n",
       "2418  2025-08-15  -22.73  225.25 -22.73    247.98           247.98   \n",
       "2419  2025-08-16  -15.01  108.75 -16.88    125.63           131.48   \n",
       "2420  2025-08-17  -33.89   77.92 -33.89    111.81            92.93   \n",
       "\n",
       "      low_prev_close  True_Range         ATR  \n",
       "0                NaN       26.62   26.620000  \n",
       "1              22.83       38.07   26.747222  \n",
       "2              13.74       36.11   26.851253  \n",
       "3               8.90       30.51   26.891906  \n",
       "4              41.00       41.00   27.048662  \n",
       "...              ...         ...         ...  \n",
       "2416            0.35      272.15  176.009138  \n",
       "2417           10.08      198.32  176.257036  \n",
       "2418            0.00      247.98  177.053958  \n",
       "2419            5.85      131.48  176.547581  \n",
       "2420           18.88      111.81  175.828274  \n",
       "\n",
       "[2421 rows x 9 columns]"
      ]
     },
     "execution_count": 131,
     "metadata": {},
     "output_type": "execute_result"
    }
   ],
   "source": [
    "calculate_true_range(m_p,90)"
   ]
  },
  {
   "cell_type": "code",
   "execution_count": 136,
   "id": "cadf719a-3196-4a0c-8b26-8546f4ee2d22",
   "metadata": {},
   "outputs": [
    {
     "data": {
      "image/png": "[encoded data removed]",
      "text/plain": [
       "<Figure size 1200x600 with 1 Axes>"
      ]
     },
     "metadata": {},
     "output_type": "display_data"
    }
   ],
   "source": [
    "plt.figure(figsize=(12, 6))\n",
    "ax = plt.gca()\n",
    "#plt.plot(m_p['Date'],m_p['{}'.format('Close')] )\n",
    "ax.xaxis.set_major_formatter(mdates.DateFormatter('%Y-%m-%d'))  # axis formating \n",
    "plt.gca().xaxis.set_major_locator(mdates.DayLocator(interval=365))\n",
    "#plt.plot(m_p['Date'],m_p['True_Range'], label='True Range {}'.format('Morning Peak'), color='orange')\n",
    "plt.plot(m_p['Date'],m_p['ATR'], label='ATR', color='red', linestyle='--')\n",
    "#plt.plot(m_p['Date'],df['Lower Bound'], label='Lower Bound', color='green', linestyle='--')\n",
    "plt.title('ATR QLD Morning Peak')\n",
    "plt.xlabel('Date')\n",
    "plt.ylabel('Price')\n",
    "plt.grid(True)\n",
    "#plt.savefig('{}'.format(price), format='png' )\n",
    "#plt.close()\n",
    "plt.show()"
   ]
  },
  {
   "cell_type": "code",
   "execution_count": 18,
   "id": "d6ff95ae-6785-43b2-aaf5-12189c731e98",
   "metadata": {},
   "outputs": [],
   "source": [
    "def Bollinger_Bands(df,n,m,price, ticker):\n",
    "    df=df[['DateTime','{}'.format(price)]].copy()\n",
    "    ToD(df,m)\n",
    "    df=df.groupby(['Date']).agg({'{}'.format(price):'mean'}).reset_index()\n",
    "    df['Rolling_Average'] =df['{}'.format(price)].rolling(window=n).mean().reset_index(level=0, drop=True)\n",
    "    df['StdDev'] = df['{}'.format(price)].rolling(window=n).std()\n",
    "    num_std_dev = 2 # Typically 2 standard deviations\n",
    "    df.dropna(subset='Rolling_Average', inplace=True)\n",
    "    df['Upper Bound'] = df['Rolling_Average'] + (df['StdDev'] * num_std_dev)\n",
    "    df['Lower Bound'] = df['Rolling_Average'] - (df['StdDev'] * num_std_dev)\n",
    "    \n",
    "    #df.to_csv(r'C:\\Users\\ygu\\Documents\\ES\\High Price\\Input Data\\2019_2025_07_08_5Min_f1{}.csv'.format(price))\n",
    "\n",
    "\n",
    "    plt.figure(figsize=(12, 6))\n",
    "    ax = plt.gca()\n",
    "    plt.plot(df['Date'],df['{}'.format(price)] )\n",
    "    ax.xaxis.set_major_formatter(mdates.DateFormatter('%Y-%m-%d'))  # axis formating \n",
    "    plt.gca().xaxis.set_major_locator(mdates.DayLocator(interval=n))\n",
    "    plt.plot(df['Date'],df['Rolling_Average'], label='Rolling_Average {} Days'.format(n), color='orange')\n",
    "    plt.plot(df['Date'],df['Upper Bound'], label='Upper Bound', color='red', linestyle='--')\n",
    "    plt.plot(df['Date'],df['Lower Bound'], label='Lower Bound', color='green', linestyle='--')\n",
    "    plt.title(f'{ticker}{price}{n} Days Bollinger Bands')\n",
    "    plt.xlabel('Date')\n",
    "    plt.ylabel('Price')\n",
    "    plt.grid(True)\n",
    "    m=plt.savefig('{}'.format(price), format='png' )\n",
    "    plt.close()\n",
    "    #plt.show()\n",
    "\n",
    "    return df, m\n"
   ]
  },
  {
   "cell_type": "code",
   "execution_count": 19,
   "id": "92750434-8e84-42a2-b0ad-c87ff944060d",
   "metadata": {},
   "outputs": [],
   "source": [
    "#Bollinger_Bands(df,365,'DateTime','{} DISPATCH_PRICE'.format('QLD1'),\"Energy 5 Minutes Dayily Averge Price\")"
   ]
  },
  {
   "cell_type": "code",
   "execution_count": 28,
   "id": "2f8c5af4-1de8-484d-83df-21a43338bf78",
   "metadata": {},
   "outputs": [
    {
     "name": "stdout",
     "output_type": "stream",
     "text": [
      "QLD1\n",
      "NSW1\n",
      "VIC1\n",
      "SA1\n",
      "TAS1\n"
     ]
    }
   ],
   "source": [
    "import os\n",
    "writer = pd.ExcelWriter(path.join(r'C:\\Users\\ygu\\Documents\\ES\\High Price\\Input Data', 'High Price Analysis_365_Days.xlsx'),engine='xlsxwriter')\n",
    "os.chdir(r'C:\\Users\\ygu\\Documents\\ES\\High Price\\Input Data')\n",
    "for state in ['QLD1','NSW1','VIC1','SA1','TAS1']:\n",
    "    print(state)\n",
    "    df_f,p=Bollinger_Bands(df,365,'DateTime','{} DISPATCH_PRICE'.format(state),\"Energy 5 Minutes Dayily Averge Price\")\n",
    "    workbook=writer.book\n",
    "    worksheet=workbook.add_worksheet(state)\n",
    "    writer.sheets[state] = worksheet\n",
    "    df_f.to_excel(writer,sheet_name=state,startrow=0 , startcol=0,index=False,float_format=\"%.1f\")\n",
    "    worksheet.insert_image('H01' ,'{} DISPATCH_PRICE'.format(state))\n",
    "    "
   ]
  },
  {
   "cell_type": "code",
   "execution_count": 29,
   "id": "b1f88263-0879-499a-9d58-748c0eda53c1",
   "metadata": {},
   "outputs": [],
   "source": [
    "writer.close()"
   ]
  },
  {
   "cell_type": "code",
   "execution_count": 64,
   "id": "e9b197db-a424-42df-b296-622761da0eec",
   "metadata": {},
   "outputs": [],
   "source": [
    "#When someone uses two standard deviations, they mean 95% chance of the data falling within 2 standard deviations of the mean.\n",
    "\n",
    "# Approximately 68% of the data falls within one standard deviation of the mean (± 1SD). \n",
    "#Approximately 95% of the data falls within two standard deviations of the mean (± 2SD). \n",
    "#Approximately 99.7% of the data falls within three standard deviations of the mean (± 3SD). "
   ]
  }
 ],
 "metadata": {
  "kernelspec": {
   "display_name": "Python 3 (ipykernel)",
   "language": "python",
   "name": "python3"
  },
  "language_info": {
   "codemirror_mode": {
    "name": "ipython",
    "version": 3
   },
   "file_extension": ".py",
   "mimetype": "text/x-python",
   "name": "python",
   "nbconvert_exporter": "python",
   "pygments_lexer": "ipython3",
   "version": "3.13.5"
  }
 },
 "nbformat": 4,
 "nbformat_minor": 5
}
